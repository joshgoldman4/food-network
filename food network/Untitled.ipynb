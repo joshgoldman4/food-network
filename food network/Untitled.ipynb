{
 "cells": [
  {
   "cell_type": "code",
   "execution_count": 1,
   "metadata": {},
   "outputs": [],
   "source": [
    "system(\"unzip Fast_Food_Chain_Restaurants.zip\")"
   ]
  },
  {
   "cell_type": "code",
   "execution_count": 59,
   "metadata": {},
   "outputs": [
    {
     "name": "stderr",
     "output_type": "stream",
     "text": [
      "Checking rgeos availability: FALSE\n",
      " \tNote: when rgeos is not available, polygon geometry \tcomputations in maptools depend on gpclib,\n",
      " \twhich has a restricted licence. It is disabled by default;\n",
      " \tto enable gpclib, type gpclibPermit()\n"
     ]
    }
   ],
   "source": [
    "library(spdep)\n",
    "library(spatstat)\n",
    "library(classInt)\n",
    "library(rgdal)\n",
    "library(RColorBrewer)\n",
    "library(maptools)"
   ]
  },
  {
   "cell_type": "code",
   "execution_count": 15,
   "metadata": {},
   "outputs": [
    {
     "name": "stdout",
     "output_type": "stream",
     "text": [
      "OGR data source with driver: ESRI Shapefile \n",
      "Source: \"/home/jovyan/geog187-notebooks/Untitled Folder\", layer: \"Fast_Food_Chain_Restaurants\"\n",
      "with 1783 features\n",
      "It has 11 fields\n",
      "Integer64 fields read as strings:  OBJECTID Zip OBJECTID_1 \n"
     ]
    }
   ],
   "source": [
    "spdf=readOGR( dsn= getwd() , layer=\"Fast_Food_Chain_Restaurants\")"
   ]
  },
  {
   "cell_type": "code",
   "execution_count": 16,
   "metadata": {},
   "outputs": [],
   "source": [
    "par(mar=c(0,0,0,0))"
   ]
  },
  {
   "cell_type": "code",
   "execution_count": 17,
   "metadata": {},
   "outputs": [
    {
     "name": "stderr",
     "output_type": "stream",
     "text": [
      "Warning message in title(...):\n",
      "“\"fill\" is not a graphical parameter”Warning message in title(...):\n",
      "“\"border\" is not a graphical parameter”"
     ]
    },
    {
     "data": {
      "image/png": "[encoded data removed]",
      "text/plain": [
       "plot without title"
      ]
     },
     "metadata": {},
     "output_type": "display_data"
    }
   ],
   "source": [
    "plot(spdf, fill=TRUE, bg=\"skyblue\", lwd=0.25, mar=rep(0,4), border=0 )"
   ]
  },
  {
   "cell_type": "code",
   "execution_count": 18,
   "metadata": {},
   "outputs": [
    {
     "data": {
      "text/plain": [
       "Object of class SpatialPointsDataFrame\n",
       "Coordinates:\n",
       "                min       max\n",
       "coords.x1 -79.40841 -75.05427\n",
       "coords.x2  37.99125  39.71906\n",
       "Is projected: FALSE \n",
       "proj4string :\n",
       "[+proj=longlat +datum=WGS84 +no_defs +ellps=WGS84 +towgs84=0,0,0]\n",
       "Number of points: 1783\n",
       "Data attributes:\n",
       "    OBJECTID           Type                  Name    \n",
       " 1      :   1   Fast Food:1783   Subway        :411  \n",
       " 10     :   1                    McDonald's    :217  \n",
       " 100    :   1                    Dunkin' Donuts:147  \n",
       " 1000   :   1                    Burger King   :111  \n",
       " 1001   :   1                    Pizza Hut     :111  \n",
       " 1002   :   1                    Wendy's       :111  \n",
       " (Other):1777                    (Other)       :675  \n",
       "                       Address                City      State    \n",
       " 10300 Little Patuxent Pkwy:   6   Baltimore    : 208   MD:1783  \n",
       " 7101 Democracy Blvd       :   6   Frederick    :  64            \n",
       " 400 N Center St           :   4   Hagerstown   :  57            \n",
       " 825 Dulaney Valley Rd     :   4   Gaithersburg :  43            \n",
       " 11160 Veirs Mill Rd       :   3   Silver Spring:  40            \n",
       " 12641 Ocean Gateway       :   3   Salisbury    :  36            \n",
       " (Other)                   :1757   (Other)      :1335            \n",
       "             County         Zip             X                  Y          \n",
       " Prince George's:281   21740  :  49   Min.   :-8839704   Min.   :4578190  \n",
       " Baltimore      :236   21801  :  31   1st Qu.:-8570530   1st Qu.:4716912  \n",
       " Anne Arundel   :206   21061  :  30   Median :-8546190   Median :4747698  \n",
       " Montgomery     :205   21842  :  28   Mean   :-8549276   Mean   :4741279  \n",
       " Baltimore City :175   21224  :  27   3rd Qu.:-8523438   3rd Qu.:4775918  \n",
       " Frederick      : 93   21502  :  27   Max.   :-8355003   Max.   :4825200  \n",
       " (Other)        :587   (Other):1591                                       \n",
       "   OBJECTID_1  \n",
       " 1      :   1  \n",
       " 10     :   1  \n",
       " 100    :   1  \n",
       " 1000   :   1  \n",
       " 1001   :   1  \n",
       " 1002   :   1  \n",
       " (Other):1777  "
      ]
     },
     "metadata": {},
     "output_type": "display_data"
    }
   ],
   "source": [
    "summary(spdf)"
   ]
  },
  {
   "cell_type": "code",
   "execution_count": 19,
   "metadata": {},
   "outputs": [
    {
     "data": {
      "text/html": [
       "<table>\n",
       "<thead><tr><th scope=col>OBJECTID</th><th scope=col>Type</th><th scope=col>Name</th><th scope=col>Address</th><th scope=col>City</th><th scope=col>State</th><th scope=col>County</th><th scope=col>Zip</th><th scope=col>X</th><th scope=col>Y</th><th scope=col>OBJECTID_1</th></tr></thead>\n",
       "<tbody>\n",
       "\t<tr><td>1                              </td><td>Fast Food                      </td><td>Burger King                    </td><td>1006 Beards Hill Rd            </td><td>Aberdeen                       </td><td>MD                             </td><td>Harford                        </td><td>21001                          </td><td>-8480831                       </td><td>4796713                        </td><td>1                              </td></tr>\n",
       "\t<tr><td>2                              </td><td>Fast Food                      </td><td>Dunkin' Donuts                 </td><td>645 S. Philadelphia Blvd       </td><td>Aberdeen                       </td><td>MD                             </td><td>Harford                        </td><td>21001                          </td><td>-8479721                       </td><td>4793210                        </td><td>2                              </td></tr>\n",
       "\t<tr><td>3                              </td><td>Fast Food                      </td><td>KFC                            </td><td>1009 Beards Hill Road          </td><td>Aberdeen                       </td><td>MD                             </td><td>Harford                        </td><td>21001                          </td><td>-8480886                       </td><td>4796606                        </td><td>3                              </td></tr>\n",
       "\t<tr><td>4                              </td><td>Fast Food                      </td><td>McDonald's                     </td><td>330 S Philadelphia Blvd        </td><td>Aberdeen                       </td><td>MD                             </td><td>Harford                        </td><td>21001                          </td><td>-8478832                       </td><td>4794257                        </td><td>4                              </td></tr>\n",
       "\t<tr><td>5                              </td><td>Fast Food                      </td><td>McDonald's                     </td><td>999 Beards Hill Rd             </td><td>Aberdeen                       </td><td>MD                             </td><td>Harford                        </td><td>21001                          </td><td>-8480800                       </td><td>4796863                        </td><td>5                              </td></tr>\n",
       "\t<tr><td>6                              </td><td>Fast Food                      </td><td>Roy Rogers                     </td><td>Maryland House JFK Memorial Hwy</td><td>Aberdeen                       </td><td>MD                             </td><td>Harford                        </td><td>21001                          </td><td>-8486101                       </td><td>4793177                        </td><td>6                              </td></tr>\n",
       "\t<tr><td>7                              </td><td>Fast Food                      </td><td>Subway                         </td><td>1020 Beards Hill Rd            </td><td>Aberdeen                       </td><td>MD                             </td><td>Harford                        </td><td>21001                          </td><td>-8480873                       </td><td>4796598                        </td><td>7                              </td></tr>\n",
       "\t<tr><td>8                              </td><td>Fast Food                      </td><td>Taco Bell                      </td><td>1002 Beards Hill Rd            </td><td>Aberdeen                       </td><td>MD                             </td><td>Harford                        </td><td>21001                          </td><td>-8480817                       </td><td>4796752                        </td><td>8                              </td></tr>\n",
       "\t<tr><td>9                              </td><td>Fast Food                      </td><td>Wendy's                        </td><td>987 Beards Hill Road           </td><td>Aberdeen                       </td><td>MD                             </td><td>Harford                        </td><td>21001                          </td><td>-8480748                       </td><td>4797003                        </td><td>9                              </td></tr>\n",
       "\t<tr><td>10                             </td><td>Fast Food                      </td><td>Chik-Fil-A                     </td><td>408 Constant Friendship Blvd   </td><td>Abingdon                       </td><td>MD                             </td><td>Harford                        </td><td>21009                          </td><td>-8495591                       </td><td>4788086                        </td><td>10                             </td></tr>\n",
       "</tbody>\n",
       "</table>\n"
      ],
      "text/latex": [
       "\\begin{tabular}{r|lllllllllll}\n",
       " OBJECTID & Type & Name & Address & City & State & County & Zip & X & Y & OBJECTID\\_1\\\\\n",
       "\\hline\n",
       "\t 1                               & Fast Food                       & Burger King                     & 1006 Beards Hill Rd             & Aberdeen                        & MD                              & Harford                         & 21001                           & -8480831                        & 4796713                         & 1                              \\\\\n",
       "\t 2                               & Fast Food                       & Dunkin' Donuts                  & 645 S. Philadelphia Blvd        & Aberdeen                        & MD                              & Harford                         & 21001                           & -8479721                        & 4793210                         & 2                              \\\\\n",
       "\t 3                               & Fast Food                       & KFC                             & 1009 Beards Hill Road           & Aberdeen                        & MD                              & Harford                         & 21001                           & -8480886                        & 4796606                         & 3                              \\\\\n",
       "\t 4                               & Fast Food                       & McDonald's                      & 330 S Philadelphia Blvd         & Aberdeen                        & MD                              & Harford                         & 21001                           & -8478832                        & 4794257                         & 4                              \\\\\n",
       "\t 5                               & Fast Food                       & McDonald's                      & 999 Beards Hill Rd              & Aberdeen                        & MD                              & Harford                         & 21001                           & -8480800                        & 4796863                         & 5                              \\\\\n",
       "\t 6                               & Fast Food                       & Roy Rogers                      & Maryland House JFK Memorial Hwy & Aberdeen                        & MD                              & Harford                         & 21001                           & -8486101                        & 4793177                         & 6                              \\\\\n",
       "\t 7                               & Fast Food                       & Subway                          & 1020 Beards Hill Rd             & Aberdeen                        & MD                              & Harford                         & 21001                           & -8480873                        & 4796598                         & 7                              \\\\\n",
       "\t 8                               & Fast Food                       & Taco Bell                       & 1002 Beards Hill Rd             & Aberdeen                        & MD                              & Harford                         & 21001                           & -8480817                        & 4796752                         & 8                              \\\\\n",
       "\t 9                               & Fast Food                       & Wendy's                         & 987 Beards Hill Road            & Aberdeen                        & MD                              & Harford                         & 21001                           & -8480748                        & 4797003                         & 9                              \\\\\n",
       "\t 10                              & Fast Food                       & Chik-Fil-A                      & 408 Constant Friendship Blvd    & Abingdon                        & MD                              & Harford                         & 21009                           & -8495591                        & 4788086                         & 10                             \\\\\n",
       "\\end{tabular}\n"
      ],
      "text/markdown": [
       "\n",
       "OBJECTID | Type | Name | Address | City | State | County | Zip | X | Y | OBJECTID_1 | \n",
       "|---|---|---|---|---|---|---|---|---|---|\n",
       "| 1                               | Fast Food                       | Burger King                     | 1006 Beards Hill Rd             | Aberdeen                        | MD                              | Harford                         | 21001                           | -8480831                        | 4796713                         | 1                               | \n",
       "| 2                               | Fast Food                       | Dunkin' Donuts                  | 645 S. Philadelphia Blvd        | Aberdeen                        | MD                              | Harford                         | 21001                           | -8479721                        | 4793210                         | 2                               | \n",
       "| 3                               | Fast Food                       | KFC                             | 1009 Beards Hill Road           | Aberdeen                        | MD                              | Harford                         | 21001                           | -8480886                        | 4796606                         | 3                               | \n",
       "| 4                               | Fast Food                       | McDonald's                      | 330 S Philadelphia Blvd         | Aberdeen                        | MD                              | Harford                         | 21001                           | -8478832                        | 4794257                         | 4                               | \n",
       "| 5                               | Fast Food                       | McDonald's                      | 999 Beards Hill Rd              | Aberdeen                        | MD                              | Harford                         | 21001                           | -8480800                        | 4796863                         | 5                               | \n",
       "| 6                               | Fast Food                       | Roy Rogers                      | Maryland House JFK Memorial Hwy | Aberdeen                        | MD                              | Harford                         | 21001                           | -8486101                        | 4793177                         | 6                               | \n",
       "| 7                               | Fast Food                       | Subway                          | 1020 Beards Hill Rd             | Aberdeen                        | MD                              | Harford                         | 21001                           | -8480873                        | 4796598                         | 7                               | \n",
       "| 8                               | Fast Food                       | Taco Bell                       | 1002 Beards Hill Rd             | Aberdeen                        | MD                              | Harford                         | 21001                           | -8480817                        | 4796752                         | 8                               | \n",
       "| 9                               | Fast Food                       | Wendy's                         | 987 Beards Hill Road            | Aberdeen                        | MD                              | Harford                         | 21001                           | -8480748                        | 4797003                         | 9                               | \n",
       "| 10                              | Fast Food                       | Chik-Fil-A                      | 408 Constant Friendship Blvd    | Abingdon                        | MD                              | Harford                         | 21009                           | -8495591                        | 4788086                         | 10                              | \n",
       "\n",
       "\n"
      ],
      "text/plain": [
       "   OBJECTID Type      Name           Address                         City    \n",
       "1  1        Fast Food Burger King    1006 Beards Hill Rd             Aberdeen\n",
       "2  2        Fast Food Dunkin' Donuts 645 S. Philadelphia Blvd        Aberdeen\n",
       "3  3        Fast Food KFC            1009 Beards Hill Road           Aberdeen\n",
       "4  4        Fast Food McDonald's     330 S Philadelphia Blvd         Aberdeen\n",
       "5  5        Fast Food McDonald's     999 Beards Hill Rd              Aberdeen\n",
       "6  6        Fast Food Roy Rogers     Maryland House JFK Memorial Hwy Aberdeen\n",
       "7  7        Fast Food Subway         1020 Beards Hill Rd             Aberdeen\n",
       "8  8        Fast Food Taco Bell      1002 Beards Hill Rd             Aberdeen\n",
       "9  9        Fast Food Wendy's        987 Beards Hill Road            Aberdeen\n",
       "10 10       Fast Food Chik-Fil-A     408 Constant Friendship Blvd    Abingdon\n",
       "   State County  Zip   X        Y       OBJECTID_1\n",
       "1  MD    Harford 21001 -8480831 4796713 1         \n",
       "2  MD    Harford 21001 -8479721 4793210 2         \n",
       "3  MD    Harford 21001 -8480886 4796606 3         \n",
       "4  MD    Harford 21001 -8478832 4794257 4         \n",
       "5  MD    Harford 21001 -8480800 4796863 5         \n",
       "6  MD    Harford 21001 -8486101 4793177 6         \n",
       "7  MD    Harford 21001 -8480873 4796598 7         \n",
       "8  MD    Harford 21001 -8480817 4796752 8         \n",
       "9  MD    Harford 21001 -8480748 4797003 9         \n",
       "10 MD    Harford 21009 -8495591 4788086 10        "
      ]
     },
     "metadata": {},
     "output_type": "display_data"
    }
   ],
   "source": [
    "head(spdf@data, n=10)"
   ]
  },
  {
   "cell_type": "code",
   "execution_count": 58,
   "metadata": {},
   "outputs": [
    {
     "ename": "ERROR",
     "evalue": "Error in as.linnet.SpatialLines(fylk, fuse = FALSE): could not find function \"as.linnet.SpatialLines\"\n",
     "output_type": "error",
     "traceback": [
      "Error in as.linnet.SpatialLines(fylk, fuse = FALSE): could not find function \"as.linnet.SpatialLines\"\nTraceback:\n"
     ]
    }
   ],
   "source": [
    "L0 <- as.linnet.SpatialLines(fylk, fuse=FALSE)"
   ]
  },
  {
   "cell_type": "code",
   "execution_count": null,
   "metadata": {},
   "outputs": [],
   "source": []
  }
 ],
 "metadata": {
  "kernelspec": {
   "display_name": "R",
   "language": "R",
   "name": "ir"
  },
  "language_info": {
   "codemirror_mode": "r",
   "file_extension": ".r",
   "mimetype": "text/x-r-source",
   "name": "R",
   "pygments_lexer": "r",
   "version": "3.4.3"
  }
 },
 "nbformat": 4,
 "nbformat_minor": 2
}
